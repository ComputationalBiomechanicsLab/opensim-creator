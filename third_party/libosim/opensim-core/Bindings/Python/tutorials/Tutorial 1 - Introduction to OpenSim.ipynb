{
  "cells": [
    {
      "cell_type": "markdown",
      "metadata": {},
      "source": [
        "<a target=\"_blank\" href=\"https://colab.research.google.com/github/opensim-org/opensim-core/blob/main/Bindings/Python/tutorials/Tutorial%201%20-%20Introduction%20to%20OpenSim.ipynb\">\n",
        "  <img src=\"https://colab.research.google.com/assets/colab-badge.svg\" alt=\"Open In Colab\"/>\n",
        "</a>"
      ]
    },
    {
      "cell_type": "markdown",
      "metadata": {
        "id": "YS-0eq5Y6BjU"
      },
      "source": [
        "# 1. Introduction to OpenSim"
      ]
    },
    {
      "cell_type": "markdown",
      "metadata": {
        "id": "ZZClpIjbitD4"
      },
      "source": [
        "\n",
        "## 1.1. Objectives"
      ]
    },
    {
      "cell_type": "markdown",
      "metadata": {
        "id": "AKANMMa6iycq"
      },
      "source": [
        "**Introduction to OpenSim**\n",
        "\n",
        "[OpenSim](https://opensim.stanford.edu/) is an open-source software that allows users to develop, analyze, and visualize models of the musculoskeletal system, and to generate dynamic simulations of movement [[1]](https://doi.org/10.1109/TBME.2007.901024). OpenSim enables users to create custom studies, including investigating the effects of musculoskeletal geometry, joint kinematics, and muscle-tendon properties on the forces and joint moments that the muscles can produce. With OpenSim, our goal is to provide a framework that allows the biomechanics community to create, share, and extend a library of models and dynamic simulation tools to study and quantify human and animal movement.\n",
        "\n",
        "**Purpose**\n",
        "\n",
        "The purpose of this tutorial is to introduce users to the OpenSim [conda package](https://anaconda.org/opensim-org/opensim), that allows the use of the library in [Jupyter notebooks](https://jupyter.org/) and other Python environments. In this tutorial you will:\n",
        "\n",
        "*   Learn to set up OpenSim in a Jupyter notebook using [Google Colab](https://colab.research.google.com/?hl=en).\n",
        "*   Create a simple pendulum in OpenSim.\n",
        "*   Visualize the position of the pendulum using [matplotlib](https://matplotlib.org/).\n",
        "\n",
        "**Format**\n",
        "\n",
        "This tutorial guides you through the setup of the OpenSim conda package in Google Colab. Then, to test if OpenSim was installed correctly, you will create a simple pendulum, simulate it, and visualize its position. As you complete each section of the tutorial, feel free to explore the OpenSim conda package and modify the code blocks of the tutorial on your own.\n",
        "\n",
        "**Local Installation**\n",
        "\n",
        "You may also run this notebook using a locally installed OpenSim `conda` package. Visit [the OpenSim python scripting Confluence page](https://opensimconfluence.atlassian.net/wiki/spaces/OpenSim/pages/53085346/Scripting+in+Python) for more information on how to install OpenSim in a local Python environment. Then, you may skip to Section 1.3 below."
      ]
    },
    {
      "cell_type": "markdown",
      "metadata": {
        "id": "kPnGlZIT8oiM"
      },
      "source": [
        "## 1.2. Set up `conda` and OpenSim"
      ]
    },
    {
      "cell_type": "markdown",
      "metadata": {
        "id": "3kxYrs4Hi6Nl"
      },
      "source": [
        "In the following cell, you will use [condacolab](https://github.com/conda-incubator/condacolab) to install [Miniconda](https://docs.conda.io/en/latest/miniconda.html). If you want to install a different conda distribution (e.g., Anaconda, Mambaforge) check [condacolab's documentation](https://github.com/conda-incubator/condacolab#usage). "
      ]
    },
    {
      "cell_type": "code",
      "execution_count": null,
      "metadata": {
        "id": "5-sX9L3f6Asq"
      },
      "outputs": [],
      "source": [
        "!pip install -q condacolab\n",
        "import condacolab\n",
        "condacolab.install()"
      ]
    },
    {
      "cell_type": "markdown",
      "metadata": {
        "id": "LdmpfqC8Dt0x"
      },
      "source": [
        "Don't worry if after executing the previous cell you get an error saying that your session has failed. This happens because `condacolab` needs to restart the session for the changes to take effect. Therefore, you have to execute the previous cell before executing any other cell.\n",
        "\n",
        "Now, execute the following cell to install the OpenSim `conda` package."
      ]
    },
    {
      "cell_type": "code",
      "execution_count": null,
      "metadata": {
        "id": "H9WE2h3fD61J"
      },
      "outputs": [],
      "source": [
        "!conda install opensim-org::opensim"
      ]
    },
    {
      "cell_type": "markdown",
      "metadata": {
        "id": "hj5Y1HCXEb_M"
      },
      "source": [
        "## 1.3. Create a pendulum model"
      ]
    },
    {
      "cell_type": "markdown",
      "metadata": {
        "id": "1W4hVOJvEmc5"
      },
      "source": [
        "In this section we will create a simple pendulum, simulate it using time-stepping integration, and plot the resulting states trajectory. First, run the following cell to import the OpenSim module. If successful, the current OpenSim version and build date should print to the console."
      ]
    },
    {
      "cell_type": "code",
      "execution_count": null,
      "metadata": {
        "id": "H4vWQbmhEjVr"
      },
      "outputs": [],
      "source": [
        "import opensim as osim\n",
        "osim.GetVersionAndDate()"
      ]
    },
    {
      "cell_type": "markdown",
      "metadata": {
        "id": "RlqyWYr3HfAD"
      },
      "source": [
        "Now, let's create a pendulum model. We will use `ModelFactory`, a utility class that allows you to construct common OpenSim `Model`s. Here, we will create a single-link pendulum using `ModelFactor::createPendulum()`."
      ]
    },
    {
      "cell_type": "code",
      "execution_count": null,
      "metadata": {
        "id": "uCT1o9zzF-Nn"
      },
      "outputs": [],
      "source": [
        "# Create a single-link pendulum.\n",
        "pendulum = osim.ModelFactory.createPendulum()"
      ]
    },
    {
      "cell_type": "markdown",
      "metadata": {},
      "source": [
        "The following image shows the structure of the pendulum. It consists of a body attached to the ground through a pin joint.\n",
        "\n",
        "![215195548-9c713166-5cac-4ac4-9a7a-728ce74ff074.svg](data:image/svg+xml;base64,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)"
      ]
    },
    {
      "cell_type": "markdown",
      "metadata": {
        "id": "bMYcGGuaetwS"
      },
      "source": [
        "Before simulating a `Model`, you must initialize the system. Use the `initSystem()` method, which both builds the underlying computational system and constructs a `SimTK::State` containing default values for the `Model`'s coordinates (i.e., joint angles and speeds)."
      ]
    },
    {
      "cell_type": "code",
      "execution_count": null,
      "metadata": {
        "id": "horV86-lePLd"
      },
      "outputs": [],
      "source": [
        "# Initialize the system and obtain the initial state.\n",
        "state = pendulum.initSystem()"
      ]
    },
    {
      "cell_type": "markdown",
      "metadata": {
        "id": "xU1CWpsffGHM"
      },
      "source": [
        "The `Manager` class is the primary tool for creating a time-stepping simulation with an OpenSim `Model`. It manages the integration of the `Model`s system and records a trajectory of states. Run the following cell to construct a `Manager` object, simulate the pendulum model, and export a `TimeSeriesTable` containing the states trajectory."
      ]
    },
    {
      "cell_type": "code",
      "execution_count": null,
      "metadata": {
        "id": "QIpWVzXOfGbX"
      },
      "outputs": [],
      "source": [
        "# Create a new Manager object for the pendulum model.\n",
        "manager = osim.Manager(pendulum)\n",
        "\n",
        "# Initialize the Manager using the state we obtained from Model::initSystem(). This sets\n",
        "# the initial conditions for the simulation. The pendulum will start at rest positioned\n",
        "# 90 degrees from the vertical, and therefore will swing down under the influence of \n",
        "# gravity during the simulation.\n",
        "manager.initialize(state)\n",
        "\n",
        "# Call Manager's \"integrate()\" method to simulate the pendulum for 10 seconds.\n",
        "state = manager.integrate(10.0)\n",
        "\n",
        "# Obtain a table containing the states of the simulation.\n",
        "statesTable = manager.getStatesTable()"
      ]
    },
    {
      "cell_type": "markdown",
      "metadata": {
        "id": "KFYZ4O9XN4xH"
      },
      "source": [
        "Next, we will extract the times and joint angles from the `TimeSeriesTable` returned by the `Manager`."
      ]
    },
    {
      "cell_type": "code",
      "execution_count": null,
      "metadata": {
        "id": "FPACtscIGPaC"
      },
      "outputs": [],
      "source": [
        "# Extract time values for the x-axis.\n",
        "times = statesTable.getIndependentColumn()\n",
        "\n",
        "# Extract the joint angle of the pendulum over time.\n",
        "angles = statesTable.getDependentColumn('/jointset/j0/q0/value')\n",
        "\n",
        "# Print number of states\n",
        "print(f'Number of simulation states in the time interval [0, {state.getTime()}]: {angles.size()}')"
      ]
    },
    {
      "cell_type": "markdown",
      "metadata": {
        "id": "EeSYY1DtOLhd"
      },
      "source": [
        "The data from the simulation can now be plotted using, for example, `matplotlib`. The following cell plots the joint angle of the pendulum over time."
      ]
    },
    {
      "cell_type": "code",
      "execution_count": null,
      "metadata": {
        "id": "NX4GrIpXGP1F"
      },
      "outputs": [],
      "source": [
        "import matplotlib.pyplot as plt\n",
        "\n",
        "# Plot pendulum's joint angle over time.\n",
        "plt.title(\"Pendulum Simulation\")\n",
        "plt.plot(times, angles.to_numpy())\n",
        "plt.xlabel(\"time (s)\")\n",
        "plt.ylabel(\"angle (rad)\")"
      ]
    },
    {
      "cell_type": "markdown",
      "metadata": {
        "id": "J5mhS9zNX9ff"
      },
      "source": [
        "## 1.4. Conclusion"
      ]
    },
    {
      "cell_type": "markdown",
      "metadata": {
        "id": "_M04jPJLuiUz"
      },
      "source": [
        "In this tutorial you used [condacolab](https://github.com/conda-incubator/condacolab) to install [Miniconda](https://docs.conda.io/en/latest/miniconda.html) in [Google Colab](https://colab.research.google.com/?hl=en). Then, you  installed Conda [OpenSim](https://opensim.stanford.edu/) in the Miniconda environment, and you tested it by creating and simulating a simple pendulum. Finally, you plotted the positions of the pendulum using [matplotlib](https://matplotlib.org/)."
      ]
    },
    {
      "cell_type": "markdown",
      "metadata": {
        "id": "lLWgd8Noun6Y"
      },
      "source": [
        "## 1.5. Useful Links\n",
        "\n",
        "\n",
        "\n"
      ]
    },
    {
      "cell_type": "markdown",
      "metadata": {
        "id": "m8M3dlT5xQcD"
      },
      "source": [
        "> **OpenSim Website:** https://opensim.stanford.edu/\n",
        ">\n",
        "> **OpenSim Python Scripting:** https://opensimconfluence.atlassian.net/wiki/spaces/OpenSim/pages/53085346/Scripting+in+Python\n",
        ">\n",
        "> **OpenSim API Documentation:** https://simtk.org/api_docs/opensim/api_docs/\n",
        "> \n",
        "> **OpenSim Creator Website:** https://opensimcreator.com/\n",
        "> \n",
        "> **SimTK Website:** https://simtk.org/projects/opensim\n",
        "> \n",
        "> **Biomechanics of Movement Course Videos:** https://www.youtube.com/channel/UCDNGy0KKNLQ-ztcL5h2Z6zA"
      ]
    },
    {
      "cell_type": "markdown",
      "metadata": {
        "id": "rFR2Rf9tk_9A"
      },
      "source": [
        "## 1.6 Acknowledgments\n",
        "\n",
        "Thanks to [OpenSimColab](https://simtk.org/projects/opencolab) project [[2]](https://doi.org/10.1080/10255842.2022.2104607) for creating the first OpenSim conda package."
      ]
    },
    {
      "cell_type": "markdown",
      "metadata": {
        "id": "dxMjdukAnH2N"
      },
      "source": [
        "## 1.7. References\n",
        "\n",
        "\n"
      ]
    },
    {
      "cell_type": "markdown",
      "metadata": {
        "id": "WX2A_iaYulV1"
      },
      "source": [
        "> [1] Delp, S. L., Anderson, F. C., Arnold, A. S., Loan, P., Habib, A., John, C. T., Guendelman, E., & Thelen, D. G. (2007). **OpenSim: open-source software to create and analyze dynamic simulations of movement.** *IEEE Transactions on Bio-Medical Engineering*, 54(11), 1940–1950. https://doi.org/10.1109/TBME.2007.901024\n",
        ">\n",
        "> [2] Mokhtarzadeh, H., Jiang, F., Zhao, S., & Malekipour, F. (2022). **OpenColab project: OpenSim in Google colaboratory to explore biomechanics on the web.** *Computer Methods in Biomechanics and Biomedical Engineering*, 1–9. https://doi.org/10.1080/10255842.2022.2104607"
      ]
    }
  ],
  "metadata": {
    "accelerator": "GPU",
    "colab": {
      "provenance": []
    },
    "gpuClass": "standard",
    "kernelspec": {
      "display_name": "opensim",
      "language": "python",
      "name": "python3"
    },
    "language_info": {
      "codemirror_mode": {
        "name": "ipython",
        "version": 3
      },
      "file_extension": ".py",
      "mimetype": "text/x-python",
      "name": "python",
      "nbconvert_exporter": "python",
      "pygments_lexer": "ipython3",
      "version": "3.11.10"
    }
  },
  "nbformat": 4,
  "nbformat_minor": 0
}

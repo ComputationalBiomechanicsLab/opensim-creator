{
 "cells": [
  {
   "cell_type": "markdown",
   "metadata": {},
   "source": [
    "<a target=\"_blank\" href=\"https://colab.research.google.com/github/opensim-org/opensim-core/blob/main/Bindings/Python/tutorials/Tutorial%205%20-%20Scaling%2C%20Inverse%20Kinematics%2C%20and%20Inverse%20Dynamics.ipynb\">\n",
    "  <img src=\"https://colab.research.google.com/assets/colab-badge.svg\" alt=\"Open In Colab\"/>\n",
    "</a>"
   ]
  },
  {
   "cell_type": "markdown",
   "metadata": {
    "id": "EhobipLVJg7S"
   },
   "source": [
    "# 5. Scaling, Inverse Kinematics, and Inverse Dynamics\n"
   ]
  },
  {
   "cell_type": "markdown",
   "metadata": {
    "id": "SwX6QwGU0Jwj"
   },
   "source": [
    "## 5.1. Objectives"
   ]
  },
  {
   "cell_type": "markdown",
   "metadata": {
    "id": "4p_3qlB60Np3"
   },
   "source": [
    "**Purpose**\n",
    "\n",
    "The purpose of this tutorial is to demonstrate how [OpenSim](https://opensim.stanford.edu/) [[1]](https://doi.org/10.1109/TBME.2007.901024) can be used to scale a model, and then solve the Inverse Kinematics (IK) and Inverse Dynamics (ID) problems using experimental data. \n",
    "\n",
    "To diagnose movement disorders and study human movement, biomechanists frequently ask human subjects to perform movements in a motion capture laboratory and use computational tools to analyze these movements. A common step in analyzing a movement is to compute the joint angles and joint moments of the subject during movement. OpenSim has tools for computing these quantities:\n",
    "\n",
    "*   **Inverse Kinematics (IK)** is used to compute joint angles.\n",
    "*   **Inverse Dynamics (ID)** is used to compute net joint reaction forces and net joint moments.\n"
   ]
  },
  {
   "cell_type": "markdown",
   "metadata": {
    "id": "urG9ZNhGHMLo"
   },
   "source": [
    "\n",
    "![Inverse Kinematics and Dynamics.png](data:image/png;base64,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)\n"
   ]
  },
  {
   "cell_type": "markdown",
   "metadata": {
    "id": "6PpwC4C9HO1M"
   },
   "source": [
    "\n",
    "Inverse Kinematics computes the joint angles for a musculoskeletal model that best reproduce the motion of a subject. Inverse Dynamics then uses joint angles, angular velocities, and angular accelerations of the model, together with the experimental ground reaction forces and moments, to solve for the net reaction forces and net moments at each of the joints. The schematic above shows an overview of the inverse kinematics and inverse dynamics problems.\n",
    "\n",
    "In this tutorial, you will:\n",
    "\n",
    "*   Become familiar with OpenSim's Scale, Inverse Kinematics and Inverse Dynamics tools.\n",
    "*   Solve an Inverse Kinematics and an Inverse Dynamics problem using experimental data.\n",
    "*   Investigate the dynamic inconsistencies that arise during Inverse Dynamics.\n",
    "\n",
    "**Format**\n",
    "\n",
    "Each section of the tutorial guides you through certain tools within OpenSim and asks you to answer a few questions. The questions can be answered based on information from OpenSim and basic knowledge of the human musculoskeletal system. As you complete each section of the tutorial, feel free to explore OpenSim and the lower extremity model further on your own.\n",
    "\n",
    "**Resources**\n",
    "\n",
    "All of the files necessary to complete this tutorial are available in the following Google Drive folder: https://drive.google.com/drive/folders/1txjRDKPETE1NpOwzv0pSdIiCoc8aIZTf?usp=sharing\n",
    "\n",
    "While you complete the tutorial, you will find cells that automatically download the required files.\n",
    "\n",
    "To obtain a link to one of the files in Google Drive, right-click over it and click on **Get Link**.\n",
    "\n",
    "**Local Installation**\n",
    "\n",
    "You may also run this notebook using a locally installed OpenSim `conda` package. Visit [the OpenSim python scripting Confluence page](https://opensimconfluence.atlassian.net/wiki/spaces/OpenSim/pages/53085346/Scripting+in+Python) for more information on how to install OpenSim in a local Python environment. You will also need to download the resources from Google Drive to the same directory as this notebook. Then, you may skip to Section 5.3 below."
   ]
  },
  {
   "cell_type": "markdown",
   "metadata": {
    "id": "ADllcxbsjTr8"
   },
   "source": [
    "## 5.2. Set up Conda and OpenSim"
   ]
  },
  {
   "cell_type": "markdown",
   "metadata": {
    "id": "mmmTuEI4HQJG"
   },
   "source": [
    "First, set up the environment by executing the following cell (See [Tutorial 1: Introduction to OpenSim in Colab](https://colab.research.google.com/github/opensim-org/opensim-core/blob/main/Bindings/Python/tutorials/Tutorial%201%20-%20Introduction%20to%20OpenSim.ipynb) for more information)."
   ]
  },
  {
   "cell_type": "code",
   "execution_count": null,
   "metadata": {
    "id": "0w9LYQXx5TO4"
   },
   "outputs": [],
   "source": [
    "!pip install -q condacolab\n",
    "import condacolab\n",
    "condacolab.install()"
   ]
  },
  {
   "cell_type": "markdown",
   "metadata": {
    "id": "vt5loGbdfKb8"
   },
   "source": [
    "Don't worry if after executing the previous cell you get an error saying that your session has failed. This happens because `condacolab` needs to restart the session for the changes to take effect. Therefore, you have to execute the previous cell before executing any other cell.\n",
    "\n",
    "Now, execute the following cell to install the OpenSim `conda` package."
   ]
  },
  {
   "cell_type": "code",
   "execution_count": null,
   "metadata": {
    "id": "vWf9ObZJ5TO5"
   },
   "outputs": [],
   "source": [
    "!conda install opensim-org::opensim"
   ]
  },
  {
   "cell_type": "markdown",
   "metadata": {
    "id": "51viyamRzzZK"
   },
   "source": [
    "## 5.3. Scaling a Musculoskeletal Model"
   ]
  },
  {
   "cell_type": "markdown",
   "metadata": {
    "id": "Z9iDkg-QVVhm"
   },
   "source": [
    "In this tutorial, you will usea generic musculoskeletal model with 23 degrees of freedom and actuated by 54 muscles, named _3DGaitModel2354_ [[2]](https://doi.org/10.1109/10.102791) [[3]](https://doi.org/10.1080/10255849908907988). Detailed information about the model can found on the [Gait2392 and 2354 Models](https://simtk-confluence.stanford.edu:8443/display/OpenSim/Gait+2392+and+2354+Models) OpenSim documentation page hosted on Confluence."
   ]
  },
  {
   "cell_type": "markdown",
   "metadata": {
    "id": "5s5Jso_ozzZN"
   },
   "source": [
    "Subject-specific modeling involves the following steps:\n",
    "*  **Scaling** a generic musculoskeletal model to modify the body scale factors of the generic model so that it matches the anthropometry of a particular subject.\n",
    "*  **Registering** the markers placed on the model to match the locations on the subject.\n",
    "\n",
    "Scaling and registration have a significant effect on the solutions to the Inverse Kinematics and Inverse Dynamics problems, so it is crucial to perform these steps carefully."
   ]
  },
  {
   "cell_type": "markdown",
   "metadata": {
    "id": "-0nVeiJAXruu"
   },
   "source": [
    "A detailed explanation of the Scale Tool can be found on the [Scaling page](https://opensimconfluence.atlassian.net/wiki/spaces/OpenSim/pages/53090000/Scaling) of the documentation."
   ]
  },
  {
   "cell_type": "markdown",
   "metadata": {
    "id": "TIQp3TtGYMyQ"
   },
   "source": [
    "**Download Files**\n",
    "\n",
    "First, let's download the model file (`gait2354_simbody.osim`). The file is stored in a Google Drive folder (See **Resources** in the Objectives section)."
   ]
  },
  {
   "cell_type": "code",
   "execution_count": null,
   "metadata": {
    "id": "EAb6JtzeYObU"
   },
   "outputs": [],
   "source": [
    "!gdown \"1roNo6te-wyNk-4UPqfmV7SmUfef4Bfq3&confirm=t\" # gait2354_simbody.osim"
   ]
  },
  {
   "cell_type": "markdown",
   "metadata": {
    "id": "bjlOR8fym2Pl"
   },
   "source": [
    "Load the model into OpenSim. To test that the file has been downloaded correctly, let's print its name."
   ]
  },
  {
   "cell_type": "code",
   "execution_count": null,
   "metadata": {
    "id": "oGTQE8Azh6p8"
   },
   "outputs": [],
   "source": [
    "import opensim as osim\n",
    "\n",
    "# Load the model.\n",
    "gait2354 = osim.Model('gait2354_simbody.osim')\n",
    "print(\"Name of the model:\", gait2354.getName())"
   ]
  },
  {
   "cell_type": "markdown",
   "metadata": {
    "id": "-ooHO9m13zen"
   },
   "source": [
    "To scale the model, we are going to use a configuration file (`gait2354_Setup_Scale.xml`). This Scale Setup file is an XML file that contains pre-configured settings to scale and register the generic gait2354 musculoskeletal model to the dimensions of a subject for which we have experimental data. A detailed explanation of the Scale Tool can be found on the [Scaling](https://simtk-confluence.stanford.edu:8443/display/OpenSim/Scaling) page of the documentation. The following cell downloads the file. The file is stored in a Google Drive folder (See **Resources** in the Objectives section)."
   ]
  },
  {
   "cell_type": "code",
   "execution_count": null,
   "metadata": {
    "id": "1ojzW5C2iHki"
   },
   "outputs": [],
   "source": [
    "!gdown \"1c0P8cN1zUmVFJxqvcpHZEDacyAoa6lQy&confirm=t\" # gait2354_Setup_Scale.xml"
   ]
  },
  {
   "cell_type": "markdown",
   "metadata": {
    "id": "jg5Pu8k_7osp"
   },
   "source": [
    "We also need to download the MarketSet file (`gait2354_Scale_MarkerSet.xml`), which defines the position of the markers used when capturing experimental data. The file is stored in a Google Drive folder (See **Resources** in the Objectives section)."
   ]
  },
  {
   "cell_type": "code",
   "execution_count": null,
   "metadata": {
    "id": "u2MecrQliXiK"
   },
   "outputs": [],
   "source": [
    "!gdown \"1VNDVGM-MKVrYs9w3aTPCLHOfwK-s2Nn8&confirm=t\" # gait2354_Scale_MarkerSet.xml"
   ]
  },
  {
   "cell_type": "markdown",
   "metadata": {
    "id": "wqFikw-zPau0"
   },
   "source": [
    "Finally, we need a marker file (`subject01_static.trc`) which provides information about the position of the markers during the *static trial*, which is a trial in a known pose and not moving and is a typical trial used for the scaling step. In this case, we download a file with information of the user in a static pose. The file is stored in a Google Drive folder (See **Resources** in the Objectives section)."
   ]
  },
  {
   "cell_type": "code",
   "execution_count": null,
   "metadata": {
    "id": "doLIHrRKi1KU"
   },
   "outputs": [],
   "source": [
    "!gdown \"19-ouxBQN-XUOJ-K8lRe16DUs8fqaN1Yz&confirm=t\" # subject01_static.trc"
   ]
  },
  {
   "cell_type": "markdown",
   "metadata": {
    "id": "k1bbjgNFS8h2"
   },
   "source": [
    "**Create Scale Tool**\n",
    "\n",
    "The Scale Tool helps us scale the model. We can pass a configuration file as a parameter (`gait2354_Setup_Scale.xml`)."
   ]
  },
  {
   "cell_type": "code",
   "execution_count": null,
   "metadata": {
    "id": "juWpas9abaEf"
   },
   "outputs": [],
   "source": [
    "# Create a ScaleTool object using the configuration file.\n",
    "scale_tool = osim.ScaleTool('gait2354_Setup_Scale.xml')\n",
    "\n",
    "# Print some information of the config file to test everything is correct.\n",
    "print(\"Name:\", scale_tool.getName())\n",
    "print(\"Subject Mass:\", scale_tool.getSubjectMass())\n",
    "print(\"Subject Height:\", scale_tool.getSubjectHeight())\n",
    "print(\"Notes:\", scale_tool.getPropertyByName(\"notes\").toString())\n",
    "print()\n",
    "\n",
    "# Get model marker file name.\n",
    "generic_model_maker = scale_tool.getGenericModelMaker()\n",
    "print(\"Marker Set File Name:\", generic_model_maker.getMarkerSetFileName())\n",
    "print()\n",
    "\n",
    "# Get marker file name.\n",
    "marker_placer = scale_tool.getMarkerPlacer()\n",
    "print(\"Marker Placer File Name:\", marker_placer.getMarkerFileName())"
   ]
  },
  {
   "cell_type": "markdown",
   "metadata": {
    "id": "6UoQfXjAJiGk"
   },
   "source": [
    "**Perform Scaling**\n",
    "\n",
    "Finally, we can scale the model by running the scale tool. You can visualize the resulting model (`subject01_simbody.osim`) in [OpenSim GUI](https://simtk.org/frs/index.php?group_id=91)."
   ]
  },
  {
   "cell_type": "code",
   "execution_count": null,
   "metadata": {
    "id": "ISVbNGw-J-6_"
   },
   "outputs": [],
   "source": [
    "# Run Scale Tool.\n",
    "scale_tool.run()"
   ]
  },
  {
   "cell_type": "markdown",
   "metadata": {
    "id": "QKEfjnyn5ldK"
   },
   "source": [
    "**Questions:**"
   ]
  },
  {
   "cell_type": "markdown",
   "metadata": {
    "id": "5-GGyw8X5ldQ"
   },
   "source": [
    "1. What is the mass of the generic musculoskeletal model? What was the mass of the subject? _Hint: Look for it in the `gait2354_simbody.osim` and `gait2354_Setup_Scale.xml` files._"
   ]
  },
  {
   "cell_type": "markdown",
   "metadata": {
    "id": "kFTHo50B5ldQ"
   },
   "source": [
    "2. What frequency was the experimental motion data captured?\n",
    "_Hint: Look for it in the `subject01_static.trc` file._"
   ]
  },
  {
   "cell_type": "markdown",
   "metadata": {
    "id": "UHMJUvVO5ldQ"
   },
   "source": [
    "3. Which body segments were scaled manually? _Hint: Look for it in the `gait2354_Setup_scale.xml` file._"
   ]
  },
  {
   "cell_type": "markdown",
   "metadata": {
    "id": "ad2kW88oKPaw"
   },
   "source": [
    "## 5.4. Inverse Kinematics"
   ]
  },
  {
   "cell_type": "markdown",
   "metadata": {
    "id": "sXZXzssqVmUN"
   },
   "source": [
    "Kinematics is the study of motion without considering the forces and moments that produce that motion [[4]](https://onlinelibrary.wiley.com/doi/book/10.1002/9780470549148). The purpose of Inverse Kinematics (IK) is to estimate the joint angles of a particular subject from experimental data. In this section, you will estimate a subject's joint angles during walking by performing an IK analysis using the subject scaled model and experimentally collected walking data. \n",
    "\n",
    "For each time step of recorded motion data, IK computes a set of joint angles that put the model in a configuration that \"best matches\" the experimental kinematics. OpenSim determines this \"best match\" by solving a weighted least squares optimization problem with the goal of minimizing marker error. Marker error is defined as the distance between an experimental marker and the corresponding model marker. Each marker has an associated weighting value, specifying how strongly that marker's error term should be minimized in the least squares problem. For each time step, the `InverseKinematicsTool` solves for a vector of generalized coordinates (e.g., joint angles), $q$, that minimizes the weighted sum of marker errors, which is expressed as:\n",
    "\n",
    "$\\underset{q}{\\text{min}}\\Bigg[ \\sum_{i \\in \\text{markers}}{w_i || x_i^{\\text{exp}} - x_i(q) ||^2}^{}\\Bigg] $\n",
    "\n",
    "where $q$ is the vector of generalized coordinates (e.g., joint angles), $x_i^{\\text{exp}}$ is the position of the experimental marker $i$, $x_i(q)$ is the position of the corresponding model marker $i$ (which depends on $q$), and $w_i$ is the weight associated with marker $i$. "
   ]
  },
  {
   "cell_type": "markdown",
   "metadata": {
    "id": "1ATo0wsJX66B"
   },
   "source": [
    "A detailed explanation of the `InverseKinematicsTool` can be found on the [Inverse Kinematics page](https://opensimconfluence.atlassian.net/wiki/spaces/OpenSim/pages/53090037/Inverse+Kinematics) of the documentation."
   ]
  },
  {
   "cell_type": "markdown",
   "metadata": {
    "id": "e2kJm4w-YuMF"
   },
   "source": [
    "**Download the files**\n",
    "\n",
    "First, let's download the setup file for the `InverseKinematicsTool`."
   ]
  },
  {
   "cell_type": "markdown",
   "metadata": {
    "id": "AlCIWcl6qXd2"
   },
   "source": [
    "The first file to download is the XML setup file (`subject01_Setup_IK.xml`) for the IK tool. The file is stored in a Google Drive folder (See **Resources** in the Objectives section)."
   ]
  },
  {
   "cell_type": "code",
   "execution_count": null,
   "metadata": {
    "id": "PoPq74CGj05x"
   },
   "outputs": [],
   "source": [
    "!gdown \"1z1YGOTZlTCA4jpjRFbz0FlEaen1bETou&confirm=t\" # subject01_Setup_IK.xml"
   ]
  },
  {
   "cell_type": "markdown",
   "metadata": {
    "id": "Aw4ARIVvqhuR"
   },
   "source": [
    "The second file is the marker file (`subject01_walk1.trc`), which provides information about the position of the markers during a motion trial. The file is stored in a Google Drive folder (See **Resources** in the Objectives section)."
   ]
  },
  {
   "cell_type": "code",
   "execution_count": null,
   "metadata": {
    "id": "9dJOeVIqj_aX"
   },
   "outputs": [],
   "source": [
    "!gdown \"10TVRHRNJNy766Zbejjv05n3SKh0B80qD&confirm=t\" # subject01_walk1.trc"
   ]
  },
  {
   "cell_type": "markdown",
   "metadata": {
    "id": "G6wtd-OJaF6m"
   },
   "source": [
    "**Create the `InverseKinematicsTool`**\n",
    "\n",
    "The `InverseKinematicsTool` helps us solve the Inverse Kinematics problem. We can pass a configuration file as a parameter (`subject01_Setup_IK.xml`)."
   ]
  },
  {
   "cell_type": "code",
   "execution_count": null,
   "metadata": {
    "id": "DaP2nPJraF6m"
   },
   "outputs": [],
   "source": [
    "# Create an IK object using the configuration file.\n",
    "inverse_kinematics_tool = osim.InverseKinematicsTool('subject01_Setup_IK.xml')\n",
    "\n",
    "# Print some information of the config file to check that everything is correct.\n",
    "print(\"Name:\", inverse_kinematics_tool.getName())\n",
    "print(\"Model File:\", inverse_kinematics_tool.get_model_file())\n",
    "print(\"Marker File:\", inverse_kinematics_tool.get_marker_file())\n",
    "print(\"Accuracy:\", inverse_kinematics_tool.get_accuracy())\n",
    "print(\"Time Range: [\", inverse_kinematics_tool.get_time_range(0), \",\", inverse_kinematics_tool.get_time_range(1), \"]\")\n",
    "print(\"Constraint Weight:\", inverse_kinematics_tool.get_constraint_weight())\n",
    "print()\n",
    "\n",
    "# Print weights information\n",
    "print(\"Weights:\")\n",
    "task_set = inverse_kinematics_tool.get_IKTaskSet()\n",
    "for i in range(task_set.getSize()):\n",
    "    task = task_set.get(i)\n",
    "    print(task.getName())\n",
    "    print(task.getWeight())\n",
    "    print()"
   ]
  },
  {
   "cell_type": "markdown",
   "metadata": {
    "id": "lm09IBIac8QE"
   },
   "source": [
    "**Perform Inverse Kinematics**\n",
    "\n",
    "Finally, we run the IK tool. You can visualize the resulting motion file (`subject01_walk1_ik.mot`) by associating it to the scaled model (`subject01_simbody.osim`) in the [OpenSim GUI](https://simtk.org/frs/index.php?group_id=91)."
   ]
  },
  {
   "cell_type": "code",
   "execution_count": null,
   "metadata": {
    "id": "k6EIzdm9dEEx"
   },
   "outputs": [],
   "source": [
    "inverse_kinematics_tool.run()"
   ]
  },
  {
   "cell_type": "markdown",
   "metadata": {
    "id": "GLp_exuTePfI"
   },
   "source": [
    "**Visualize the marker errors**\n",
    "\n",
    "The output file `subject01_ik_marker_errors.sto` provides the markers errors associated with each frame of the generated motion. You can parse this file using a `TableProcessor` and visualize the error obtained per frame."
   ]
  },
  {
   "cell_type": "code",
   "execution_count": null,
   "metadata": {
    "id": "aiBr4M-wxrRP"
   },
   "outputs": [],
   "source": [
    "# Use the TableProcessor to read the motion file.\n",
    "table = osim.TableProcessor(\"subject01_ik_marker_errors.sto\")\n",
    "# Process the file.\n",
    "tableErrors = table.process()\n",
    "# Print labels for each column.\n",
    "print(tableErrors.getColumnLabels())"
   ]
  },
  {
   "cell_type": "markdown",
   "metadata": {
    "id": "-Ov2v2k9x5oe"
   },
   "source": [
    "We will plot the total squared error, the RMS error for the markers, and the maximum error for the markers. In the next cell you will extract this information from the motion file.\n"
   ]
  },
  {
   "cell_type": "code",
   "execution_count": null,
   "metadata": {
    "id": "Xhnx_ulsx6CS"
   },
   "outputs": [],
   "source": [
    "# Get columns we want to plot, and the independent column (Time).\n",
    "total_squared_error = tableErrors.getDependentColumn('total_squared_error')\n",
    "marker_error_RMS = tableErrors.getDependentColumn('marker_error_RMS')\n",
    "marker_error_max = tableErrors.getDependentColumn('marker_error_max')\n",
    "x_time = tableErrors.getIndependentColumn()"
   ]
  },
  {
   "cell_type": "markdown",
   "metadata": {
    "id": "WfpRt8xMjhy3"
   },
   "source": [
    "Now, we can plot the error."
   ]
  },
  {
   "cell_type": "code",
   "execution_count": null,
   "metadata": {
    "id": "w4J1bJGpzC3U"
   },
   "outputs": [],
   "source": [
    "import matplotlib.pyplot as plt\n",
    "import numpy as np\n",
    "\n",
    "# Create six subplots, with 2 rows and 3 columns.\n",
    "fig, axs = plt.subplots(1, 1, figsize=(7, 5))\n",
    "fig.suptitle('Marker Errors from Inverse Kinematics', fontsize=16)\n",
    "\n",
    "# Plot the knee angles on the first subplot.\n",
    "axs.plot(x_time, total_squared_error.to_numpy(), label='total_squared_error')\n",
    "axs.plot(x_time, marker_error_RMS.to_numpy(), label='marker_error_RMS')\n",
    "axs.plot(x_time, marker_error_max.to_numpy(), label='marker_error_max')\n",
    "axs.set_xlabel('Time (s)')\n",
    "axs.set_ylabel('Marker Error (m)')\n",
    "axs.grid()\n",
    "axs.legend()\n",
    "\n",
    "# Set the spacing between subplots\n",
    "plt.subplots_adjust(wspace=0.5, hspace=0.5)"
   ]
  },
  {
   "cell_type": "markdown",
   "metadata": {
    "id": "uJ25R72HJ9YX"
   },
   "source": [
    "**Questions:**"
   ]
  },
  {
   "cell_type": "markdown",
   "metadata": {
    "id": "_F4VGaDkmW-I"
   },
   "source": [
    "4. Which markers have weighting values less than one? Why?\n",
    "*Hint: Think about joints that have not been modeled.*"
   ]
  },
  {
   "cell_type": "markdown",
   "metadata": {
    "id": "Oa7-QlzImfut"
   },
   "source": [
    "5. What is the root-mean-squared (RMS) error of all the markers in the last frame of the motion? Include units. Does this seem reasonable? Explain."
   ]
  },
  {
   "cell_type": "markdown",
   "metadata": {
    "id": "hSO963Q1J7o9"
   },
   "source": [
    "6. What was the value of the maximum marker error in the last frame? Include units. Which marker had this maximum error, and why?\n",
    "*Hint: Think about the weighted least squares problem.*"
   ]
  },
  {
   "cell_type": "markdown",
   "metadata": {
    "id": "SzMh1MS8QazO"
   },
   "source": [
    "## 5.5. Inverse Dynamics"
   ]
  },
  {
   "cell_type": "markdown",
   "metadata": {
    "id": "QL2BMH6tQiVV"
   },
   "source": [
    "Dynamics is the study of motion and the forces and moments that produce that motion [[4]](https://onlinelibrary.wiley.com/doi/book/10.1002/9780470549148). The purpose of Inverse Dynamics is to estimate the forces and moments that cause a particular motion, and its results can be used to infer how muscles are utilized in that motion. To determine these forces and moments, equations of motion for the system are solved iteratively [[5]](https://doi.org/10.1115/1.2834295). The equations of motion are derived using the kinematic description and mass properties of a musculoskeletal model. Then, using the joint angles from Inverse Kinematics and experimental ground reaction force data, the net reaction forces and net moments at each of the joints are calculated such that the dynamic equilibrium conditions and boundary conditions are satisfied [[5]](https://doi.org/10.1115/1.2834295).  "
   ]
  },
  {
   "cell_type": "markdown",
   "metadata": {
    "id": "cR5SdHfdYH30"
   },
   "source": [
    "A detailed explanation of the `InverseDynamicsTool` can be found on the [Inverse Dynamics page](https://opensimconfluence.atlassian.net/wiki/spaces/OpenSim/pages/53090074/Inverse+Dynamics) of the OpenSim documentation hosted on confluence."
   ]
  },
  {
   "cell_type": "markdown",
   "metadata": {
    "id": "wnJUuAW8RGpe"
   },
   "source": [
    "**Download the files**\n",
    "\n",
    "First, let's download the configuration file (`subject01_Setup_InverseDynamics.xml`) for the `InverseDynamicsTool`. The file is stored in a Google Drive folder (See **Resources** in the Objectives section)."
   ]
  },
  {
   "cell_type": "code",
   "execution_count": null,
   "metadata": {
    "id": "SDK4_QCkk0vo"
   },
   "outputs": [],
   "source": [
    "!gdown \"1aE_GIV0dNepL6oUGJalznsJQZDlSfcet&confirm=t\" # subject01_Setup_InverseDynamics.xml"
   ]
  },
  {
   "cell_type": "markdown",
   "metadata": {
    "id": "XlRizvvXrXtQ"
   },
   "source": [
    "The second file is a external loads file (`subject01_walk1_grf.xml`), that contains the external loads applied to the model. The file is stored in a Google Drive folder (See **Resources** in the Objectives section)."
   ]
  },
  {
   "cell_type": "code",
   "execution_count": null,
   "metadata": {
    "id": "a3Ym-2KglEey"
   },
   "outputs": [],
   "source": [
    "!gdown \"1OZtWIpJ1UH2uViiEEeRluwfi54wsgIqG&confirm=t\" # subject01_walk1_grf.xml"
   ]
  },
  {
   "cell_type": "markdown",
   "metadata": {
    "id": "ePpe9dGXr_II"
   },
   "source": [
    "The third file is a coordinates file (`subject01_walk1_grf.mot`), containing coordinate data. The file is stored in a Google Drive folder (See **Resources** in the Objectives section)."
   ]
  },
  {
   "cell_type": "code",
   "execution_count": null,
   "metadata": {
    "id": "IoYI-ik3lUsq"
   },
   "outputs": [],
   "source": [
    "!gdown \"18L9Nj9ff-2evQkiXqD2KDZXu3DWZ30vh&confirm=t\" # subject01_walk1_grf.mot"
   ]
  },
  {
   "cell_type": "markdown",
   "metadata": {
    "id": "oHeUXkItSy6D"
   },
   "source": [
    "**Create the `InverseDynamicsTool`**\n",
    "\n",
    "The `InverseDynamicsTool` helps us perform Inverse Dynamics. We can pass a configuration file as a parameter (`subject01_Setup_InverseDynamics.xml`)."
   ]
  },
  {
   "cell_type": "code",
   "execution_count": null,
   "metadata": {
    "id": "r17DfremSy6E"
   },
   "outputs": [],
   "source": [
    "# Create an ID object using the configuration file.\n",
    "inverse_dynamics_tool = osim.InverseDynamicsTool('subject01_Setup_InverseDynamics.xml')\n",
    "\n",
    "# Print some information of the config file to check that everything is correct.\n",
    "print(\"Name:\", inverse_dynamics_tool.getName())\n",
    "print(\"Model File:\", inverse_dynamics_tool.getModelFileName())\n",
    "print(\"External Loads File:\", inverse_dynamics_tool.getExternalLoadsFileName())\n",
    "print(\"Coordinates File:\", inverse_dynamics_tool.getCoordinatesFileName())\n",
    "print(\"Time Range: [\", inverse_dynamics_tool.getStartTime(), \",\", inverse_dynamics_tool.getEndTime(), \"]\")\n",
    "print(\"Lowpass Cutoff Frequency:\", inverse_dynamics_tool.getLowpassCutoffFrequency())"
   ]
  },
  {
   "cell_type": "markdown",
   "metadata": {
    "id": "fHgMyZc2Y6JO"
   },
   "source": [
    "**Run Inverse Dynamics**\n",
    "\n",
    "Finally, we can run Inverse Dynamics by running the `InverseDynamicsTool`."
   ]
  },
  {
   "cell_type": "code",
   "execution_count": null,
   "metadata": {
    "id": "VF3_KRo8Y6Jk"
   },
   "outputs": [],
   "source": [
    "inverse_dynamics_tool.run()"
   ]
  },
  {
   "cell_type": "markdown",
   "metadata": {
    "id": "lUy_Vm8izR0f"
   },
   "source": [
    "**Visualize the Inverse Dynamics results**\n",
    "\n",
    "After running the Inverse Dynamics Tool, a file named `inverse_dynamics.sto` is generated. This file contains the results of the Inverse Dynamics execution, and you can parse it using a `TimeSeriesTable` to visualize the results."
   ]
  },
  {
   "cell_type": "code",
   "execution_count": null,
   "metadata": {
    "id": "07K30qNozR0z"
   },
   "outputs": [],
   "source": [
    "# Load the inverse dynamics results into a TimeSeriesTable.\n",
    "tableID = osim.TimeSeriesTable(\"ResultsInverseDynamics/inverse_dynamics.sto\")\n",
    "\n",
    "# Print labels for each column.\n",
    "print(tableID.getColumnLabels())"
   ]
  },
  {
   "cell_type": "markdown",
   "metadata": {
    "id": "bd3MDg8azR0z"
   },
   "source": [
    "We are going to compare the moments of the ankle angle of both legs, so let's extract these quantities from the Inverse Dynamics results."
   ]
  },
  {
   "cell_type": "code",
   "execution_count": null,
   "metadata": {
    "id": "hxG43RnlzR00"
   },
   "outputs": [],
   "source": [
    "# Get columns we want to represent, and the independent column (Time).\n",
    "ankle_angle_r_moment = tableID.getDependentColumn('ankle_angle_r_moment')\n",
    "ankle_angle_l_moment = tableID.getDependentColumn('ankle_angle_l_moment')\n",
    "x_time = tableID.getIndependentColumn()"
   ]
  },
  {
   "cell_type": "markdown",
   "metadata": {
    "id": "zLngF9DkzR00"
   },
   "source": [
    "Now, we can plot the moments."
   ]
  },
  {
   "cell_type": "code",
   "execution_count": null,
   "metadata": {
    "id": "ql-_ZYAizjw0"
   },
   "outputs": [],
   "source": [
    "import matplotlib.pyplot as plt\n",
    "import numpy as np\n",
    "\n",
    "# Create six subplots, with 2 rows and 3 columns.\n",
    "fig, axs = plt.subplots(1, 1, figsize=(7, 5))\n",
    "fig.suptitle('Ankle Angle Moment Comparison')\n",
    "\n",
    "# Plot the knee angles on the first subplot.\n",
    "axs.plot(x_time, ankle_angle_r_moment.to_numpy(), label='ankle_angle_r_moment')\n",
    "axs.plot(x_time, ankle_angle_l_moment.to_numpy(), label='ankle_angle_l_moment')\n",
    "axs.set_xlabel('Time (s)')\n",
    "axs.set_ylabel('Moment (N-m)')\n",
    "axs.grid()\n",
    "axs.legend()\n",
    "\n",
    "# Set the spacing between subplots\n",
    "plt.subplots_adjust(wspace=0.5, hspace=0.5)"
   ]
  },
  {
   "cell_type": "markdown",
   "metadata": {
    "id": "cHOJv4Mg1W_U"
   },
   "source": [
    "In solving the Inverse Dynamics problem, both kinematic data and force plate data were used, making this an over-determined problem. In other words, the problem has more equations than unknowns (i.e., degrees of freedom). Due to errors in the experimental motion data and inaccuracies in the musculoskeletal model, it turns out that Newton's second law is violated, or $\\overrightarrow{F}_{\\text{exp}} \\neq m * \\overrightarrow{a}$ [[5]](https://doi.org/10.1115/1.2834295). One method to handle this inconsistency is to compute and apply residual forces and moments to a particular body segment in the model, such that Newton's second law becomes:"
   ]
  },
  {
   "cell_type": "markdown",
   "metadata": {
    "id": "ZFsf78-5t2L6"
   },
   "source": [
    "$\\overrightarrow{F}_{\\text{exp}} + \\overrightarrow{F}_{\\text{residual}} = m * \\overrightarrow{a} $"
   ]
  },
  {
   "cell_type": "markdown",
   "metadata": {
    "id": "gFZfIUMp28Sx"
   },
   "source": [
    "Note: An analogous equation relates the ground reaction moment, $\\overrightarrow{M}_{\\text{exp}}$ to the residual moment, $\\overrightarrow{M}_{\\text{residual}}$."
   ]
  },
  {
   "cell_type": "markdown",
   "metadata": {
    "id": "XdW9OdIA3MuC"
   },
   "source": [
    "In this musculoskeletal model, the residuals are applied to the pelvis segment. To see the residuals from the inverse dynamics solution, plot `pelvis_tx_force`, `pelvis_ty_force`, and `pelvis_tz_force` versus `time`. Using this plot, answer question 9."
   ]
  },
  {
   "cell_type": "code",
   "execution_count": null,
   "metadata": {
    "id": "_Ryg0QjYzyfU"
   },
   "outputs": [],
   "source": [
    "import matplotlib.pyplot as plt\n",
    "import numpy as np\n",
    "\n",
    "# Get columns we want to represent, and the independent column (Time).\n",
    "pelvis_tx_force = tableID.getDependentColumn('pelvis_tx_force')\n",
    "pelvis_ty_force = tableID.getDependentColumn('pelvis_ty_force')\n",
    "pelvis_tz_force = tableID.getDependentColumn('pelvis_tz_force')\n",
    "x_time = tableID.getIndependentColumn()\n",
    "\n",
    "# Create six subplots, with 2 rows and 3 columns.\n",
    "fig, axs = plt.subplots(1, 1, figsize=(7, 5))\n",
    "fig.suptitle('Pelvis Force Residuals')\n",
    "\n",
    "# Plot the knee angles on the first subplot.\n",
    "axs.plot(x_time, pelvis_tx_force.to_numpy(), label='pelvis_tx_force')\n",
    "axs.plot(x_time, pelvis_ty_force.to_numpy(), label='pelvis_ty_force')\n",
    "axs.plot(x_time, pelvis_tz_force.to_numpy(), label='pelvis_tz_force')\n",
    "axs.set_xlabel('Time')\n",
    "axs.set_ylabel('Force')\n",
    "axs.grid()\n",
    "axs.legend()\n",
    "\n",
    "# Set the spacing between subplots\n",
    "plt.subplots_adjust(wspace=0.5, hspace=0.5)"
   ]
  },
  {
   "cell_type": "markdown",
   "metadata": {
    "id": "oK6v_gocKWSh"
   },
   "source": [
    "**Questions:**"
   ]
  },
  {
   "cell_type": "markdown",
   "metadata": {
    "id": "cC88pJIY3TLV"
   },
   "source": [
    "7. On your plot of the ankle moments, identify when heel strike, stance phase, toe off, and swing phase occur for each curve (i.e., left leg and right leg)."
   ]
  },
  {
   "cell_type": "markdown",
   "metadata": {
    "id": "BLKse9bp3W7R"
   },
   "source": [
    "8. Based on your plot and the angle convention for the ankle, give an explanation of what is happening at the ankle just before toe-off.\n",
    "*Hint: It may be useful to visualize the motion in the OpenSim GUI and use the Coordinate sliders to understand the angle convention for the ankle.*"
   ]
  },
  {
   "cell_type": "markdown",
   "metadata": {
    "id": "nquFUQIA4E-2"
   },
   "source": [
    "9. What are the maximum magnitudes of the residual forces? Using the mass of the subject from Question 1, what fraction of body weight are the maximum residual forces?"
   ]
  },
  {
   "cell_type": "markdown",
   "metadata": {
    "id": "acVEWzHi8nRE"
   },
   "source": [
    "While applying residual forces and moments makes the model's motion dynamically consistent with the external forces, this strategy is undesirable because the residuals can be large. More advanced strategies have been developed to deal with the problem of residuals and dynamic inconsistencies, such as least-squares optimization [[5]](https://doi.org/10.1115/1.2834295), the Residual Elimination Algorithm (REA) [[6]](https://doi.org/10.1016/j.jbiomech.2005.02.010), and the Residual Reduction Algorithm (RRA) [[7]](https://bcats.stanford.edu/previous_bcats/bcats06/pdf/BCATS_2006_abstract_book.pdf#page=31). OpenSim implements a Residual Reduction Algorithm as part of its workflow for generating muscle-actuated simulations [[7]](https://bcats.stanford.edu/previous_bcats/bcats06/pdf/BCATS_2006_abstract_book.pdf#page=31). A detailed explanation of the Residual Reduction Algorithm (RRA) can be found on the Residual Reduction Algorithm page of the documentation. For additional information on these strategies, please also see [[1]](https://doi.org/10.1080/10255842.2011.627560), [[5]](https://doi.org/10.1115/1.2834295), [[6]](https://doi.org/10.1016/j.jbiomech.2005.02.010) and [[7]](https://bcats.stanford.edu/previous_bcats/bcats06/pdf/BCATS_2006_abstract_book.pdf#page=31)."
   ]
  },
  {
   "cell_type": "markdown",
   "metadata": {
    "id": "i7rhPT2id6gg"
   },
   "source": [
    "## 5.6. Conclusion"
   ]
  },
  {
   "cell_type": "markdown",
   "metadata": {
    "id": "1XK9UgItWQMF"
   },
   "source": [
    "In this tutorial, you scaled a musculoskeletal model and used it to perform Inverse Kinematics and Inverse Dynamics. Then, you explored the results of each analyses."
   ]
  },
  {
   "cell_type": "markdown",
   "metadata": {
    "id": "lLWgd8Noun6Y"
   },
   "source": [
    "## 5.7. Useful Links\n",
    "\n",
    "\n",
    "\n"
   ]
  },
  {
   "cell_type": "markdown",
   "metadata": {
    "id": "m8M3dlT5xQcD"
   },
   "source": [
    "> **OpenSim Website:** https://opensim.stanford.edu/\n",
    ">\n",
    "> **OpenSim Python Scripting:** https://opensimconfluence.atlassian.net/wiki/spaces/OpenSim/pages/53085346/Scripting+in+Python\n",
    ">\n",
    "> **OpenSim API Documentation:** https://simtk.org/api_docs/opensim/api_docs/\n",
    "> \n",
    "> **OpenSim Creator Website:** https://opensimcreator.com/\n",
    "> \n",
    "> **SimTK Website:** https://simtk.org/projects/opensim\n",
    "> \n",
    "> **Biomechanics of Movement's Course:** https://www.youtube.com/channel/UCDNGy0KKNLQ-ztcL5h2Z6zA\n",
    ">\n",
    "> **Webinar on Scaling and Inverse Kinematics in OpenSim:** https://www.youtube.com/watch?v=ZG7wzvQC6eU"
   ]
  },
  {
   "cell_type": "markdown",
   "metadata": {
    "id": "yIZL9H9ygQGU"
   },
   "source": [
    "## 5.8. Acknowledgments\n",
    "\n",
    "The experimental gait data were collected by Jill Higginson and Chand John in the Neuromuscular Biomechanics Lab at the University of Delaware [[8]](https://doi.org/10.1080/10255842.2011.627560). The data include marker trajectories and ground reaction forces for an adult male walking at a self-selected speed on an instrumented split-belt treadmill. Please note that the data distributed with OpenSim is from a different subject than the one described in the paper. Data collection protocols were the same for both subjects.\n",
    "\n",
    "Thanks to [OpenSimColab](https://simtk.org/projects/opencolab) project [[9]](https://doi.org/10.1080/10255842.2022.2104607) for creating the first OpenSim Conda package."
   ]
  },
  {
   "cell_type": "markdown",
   "metadata": {
    "id": "2rwqw1LFq6Lz"
   },
   "source": [
    "## 5.9. References"
   ]
  },
  {
   "cell_type": "markdown",
   "metadata": {
    "id": "TpbyAlHvfh8M"
   },
   "source": [
    "\n",
    "> [1].   Delp, S. L., Anderson, F. C., Arnold, A. S., Loan, P., Habib, A., John, C. T., Guendelman, E., & Thelen, D. G. (2007). **OpenSim: open-source software to create and analyze dynamic simulations of movement.** *IEEE Transactions on Bio-Medical Engineering*, 54(11), 1940–1950. https://doi.org/10.1109/TBME.2007.901024\n",
    "> \n",
    "> [2].   Delp, S. L., Loan, J. P., Hoy, M. G., Zajac, F. E., Topp, E. L., & Rosen, J. M. (1990). **An interactive graphics-based model of the lower extremity to study orthopaedic surgical procedures.** *IEEE Transactions on Bio-Medical Engineering*, 37(8), 757–767. https://doi.org/10.1109/10.102791\n",
    ">\n",
    "> [3]. Anderson, F. C., & Pandy, M. G. (1999). **A dynamic optimization solution for vertical jumping in three dimensions.** *Computer Methods in Biomechanics and Biomedical Engineering*, 2(3), 201–231. https://doi.org/10.1080/10255849908907988\n",
    ">\n",
    "> [4]. Winter, D. A. (1990). **The biomechanics and motor control of human movement** (2a ed.). *John Wiley & Sons*. https://onlinelibrary.wiley.com/doi/book/10.1002/9780470549148\n",
    ">\n",
    "> [5]. Kuo, A. D. (1998). **A least-squares estimation approach to improving the precision of inverse dynamics computations.** *Journal of Biomechanical Engineering*, 120(1), 148–159. https://doi.org/10.1115/1.2834295\n",
    ">\n",
    "> [6]. Thelen, D. G., & Anderson, F. C. (2006). **Using computed muscle control to generate forward dynamic simulations of human walking from experimental data.** *Journal of Biomechanics*, 39(6), 1107–1115. https://doi.org/10.1016/j.jbiomech.2005.02.010\n",
    ">\n",
    "> [7]. John, C.T., Anderson, F.C., Guendelman, E., Arnold, A.S., Delp, S.L. (21st October 2006). **An algorithm for generating muscle-actuated simulations of long-duration movements.** *Biomedical Computation at Stanford (BCATS) Symposium*, Stanford University, Poster Presentation. https://bcats.stanford.edu/previous_bcats/bcats06/pdf/BCATS_2006_abstract_book.pdf#page=31\n",
    ">\n",
    "> [8]. John, C. T., Anderson, F. C., Higginson, J. S., & Delp, S. L. (2013). **Stabilisation of walking by intrinsic muscle properties revealed in a three-dimensional muscle-driven simulation.** *Computer Methods in Biomechanics and Biomedical Engineering*, 16(4), 451–462. https://doi.org/10.1080/10255842.2011.627560\n",
    ">\n",
    "> [9] Mokhtarzadeh, H., Jiang, F., Zhao, S., & Malekipour, F. (2022). **OpenColab project: OpenSim in Google colaboratory to explore biomechanics on the web.** *Computer Methods in Biomechanics and Biomedical Engineering*, 1–9. https://doi.org/10.1080/10255842.2022.2104607"
   ]
  }
 ],
 "metadata": {
  "colab": {
   "provenance": []
  },
  "kernelspec": {
   "display_name": "opensim",
   "language": "python",
   "name": "python3"
  },
  "language_info": {
   "codemirror_mode": {
    "name": "ipython",
    "version": 3
   },
   "file_extension": ".py",
   "mimetype": "text/x-python",
   "name": "python",
   "nbconvert_exporter": "python",
   "pygments_lexer": "ipython3",
   "version": "3.11.10"
  }
 },
 "nbformat": 4,
 "nbformat_minor": 0
}
